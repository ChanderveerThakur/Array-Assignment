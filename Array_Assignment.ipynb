{
 "cells": [
  {
   "cell_type": "markdown",
   "id": "5b9997f4",
   "metadata": {},
   "source": [
    "1 . Given an array, check if it contains any duplicates or not. \n",
    "\n",
    "arr = [1, 2, 4, 2, 5, 9] \n",
    "\n",
    "Output = True"
   ]
  },
  {
   "cell_type": "code",
   "execution_count": 27,
   "id": "3444cb75",
   "metadata": {},
   "outputs": [],
   "source": [
    "arr = [1,2,3,2,5,9]"
   ]
  },
  {
   "cell_type": "code",
   "execution_count": 28,
   "id": "ead91da7",
   "metadata": {},
   "outputs": [],
   "source": [
    "def fun(arr):\n",
    "    s = [] \n",
    "    for i in arr:\n",
    "        if i in s:\n",
    "            return(True)\n",
    "        s.append(i)\n",
    "    return False\n",
    "        \n",
    "        \n",
    "    "
   ]
  },
  {
   "cell_type": "code",
   "execution_count": 29,
   "id": "a7dba615",
   "metadata": {},
   "outputs": [
    {
     "name": "stdout",
     "output_type": "stream",
     "text": [
      "True\n"
     ]
    }
   ],
   "source": [
    "print(fun(arr))"
   ]
  },
  {
   "cell_type": "markdown",
   "id": "236c2ab0",
   "metadata": {},
   "source": [
    "2. Given an array and an integer k, rotate the array to the right by k steps. \n",
    "\n",
    "arr = [1, 2, 3, 4, 5, 6, 7] k = 3 \n",
    "\n",
    "Output = [5, 6, 7, 1, 2, 3, 4]"
   ]
  },
  {
   "cell_type": "code",
   "execution_count": 30,
   "id": "0a9d7e90",
   "metadata": {},
   "outputs": [
    {
     "data": {
      "text/plain": [
       "[5, 6, 7, 1, 2, 3, 4]"
      ]
     },
     "execution_count": 30,
     "metadata": {},
     "output_type": "execute_result"
    }
   ],
   "source": [
    "arr = [1,2,3,4,5,6,7]\n",
    "k = 3\n",
    "\n",
    "arr = arr[::-1] # reversed whole array\n",
    "\n",
    "arr[:k] = arr[:k][::-1] # reversed first k element\n",
    "\n",
    "arr[k:] = arr[k:][::-1] # reversed rest of the element\n",
    "\n",
    "arr"
   ]
  },
  {
   "cell_type": "markdown",
   "id": "14183d21",
   "metadata": {},
   "source": [
    "3. Reverse the given array in-place, means without using any extra data structure. \n",
    "\n",
    "arr = [2, 4, 5, 7, 9, 12] \n",
    "\n",
    "Output = [12, 9, 7, 5, 4, 2]"
   ]
  },
  {
   "cell_type": "code",
   "execution_count": 31,
   "id": "541c848d",
   "metadata": {},
   "outputs": [],
   "source": [
    "arr2 = [2, 4, 5, 7, 9, 12]\n",
    "def reverse(a):\n",
    "    for i in a:\n",
    "        return(a[::-1])"
   ]
  },
  {
   "cell_type": "code",
   "execution_count": 32,
   "id": "37ab7828",
   "metadata": {},
   "outputs": [
    {
     "data": {
      "text/plain": [
       "[12, 9, 7, 5, 4, 2]"
      ]
     },
     "execution_count": 32,
     "metadata": {},
     "output_type": "execute_result"
    }
   ],
   "source": [
    "reverse(arr2)"
   ]
  },
  {
   "cell_type": "markdown",
   "id": "94b5e101",
   "metadata": {},
   "source": [
    "4. Given an array of integers, find the maximum element in an array\n",
    "\n",
    "arr = [10, 5, 20, 8, 15]\n",
    "\n",
    "Output = 20"
   ]
  },
  {
   "cell_type": "code",
   "execution_count": 33,
   "id": "23b021f3",
   "metadata": {},
   "outputs": [],
   "source": [
    "def greatest_num(array):\n",
    "    maxx = 0\n",
    "    for i in array:\n",
    "        if i > maxx:\n",
    "            maxx = i\n",
    "    return maxx\n",
    "    "
   ]
  },
  {
   "cell_type": "code",
   "execution_count": 34,
   "id": "6db39868",
   "metadata": {},
   "outputs": [
    {
     "name": "stdout",
     "output_type": "stream",
     "text": [
      "20\n"
     ]
    }
   ],
   "source": [
    "arr = [10 , 5 , 20 , 8 , 15]\n",
    "print(greatest_num(arr))\n"
   ]
  },
  {
   "cell_type": "markdown",
   "id": "4171da99",
   "metadata": {},
   "source": [
    "5. Given a sorted array, remove the duplicate element without using any extra data structure. \n",
    "\n",
    "arr = [1, 1, 2, 2, 2, 3, 3, 4, 4, 4, 5, 5] \n",
    "\n",
    "Output = [1, 2, 3, 4, 5]"
   ]
  },
  {
   "cell_type": "code",
   "execution_count": 35,
   "id": "5c84e229",
   "metadata": {},
   "outputs": [
    {
     "name": "stdout",
     "output_type": "stream",
     "text": [
      "Unique elements: [1, 2, 3, 4] 4\n"
     ]
    }
   ],
   "source": [
    "arr = [1, 2, 2, 2]\n",
    "\n",
    "def remove_duplicates(nums):\n",
    "    if not nums:\n",
    "        return 0  # If the array is empty, there are no duplicates\n",
    "    \n",
    "    unique_index = 0  # Index to track the last unique element\n",
    "\n",
    "    for i in range(1, len(nums)):\n",
    "        if nums[i] != nums[unique_index]:\n",
    "            unique_index += 1\n",
    "            nums[unique_index] = nums[i]\n",
    "\n",
    "    return unique_index + 1 \n",
    "\n",
    "arr = [1, 2, 2, 3, 4]\n",
    "\n",
    "new_length = remove_duplicates(arr)\n",
    "\n",
    "\n",
    "print(\"Unique elements:\", arr[:new_length], new_length)\n",
    "\n"
   ]
  },
  {
   "cell_type": "code",
   "execution_count": null,
   "id": "b63a138c",
   "metadata": {},
   "outputs": [],
   "source": []
  },
  {
   "cell_type": "code",
   "execution_count": null,
   "id": "b487aa1a",
   "metadata": {},
   "outputs": [],
   "source": []
  },
  {
   "cell_type": "code",
   "execution_count": null,
   "id": "d48147d6",
   "metadata": {},
   "outputs": [],
   "source": []
  }
 ],
 "metadata": {
  "kernelspec": {
   "display_name": "Python 3 (ipykernel)",
   "language": "python",
   "name": "python3"
  },
  "language_info": {
   "codemirror_mode": {
    "name": "ipython",
    "version": 3
   },
   "file_extension": ".py",
   "mimetype": "text/x-python",
   "name": "python",
   "nbconvert_exporter": "python",
   "pygments_lexer": "ipython3",
   "version": "3.10.9"
  }
 },
 "nbformat": 4,
 "nbformat_minor": 5
}
